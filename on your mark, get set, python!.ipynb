{
 "cells": [
  {
   "cell_type": "markdown",
   "metadata": {},
   "source": [
    "# Know Your Code\n",
    "\n",
    "   This is a series of python code meant to quickly assist someone wanting to start a career path in data science using python. I will try as much as possible to relate most of the code written here to what one will require in their data science quest. \n",
    "   Check out for more posts using this [link](https://medium.com/turidata).\n",
    "\n",
    "\n",
    "## Python Basics\n",
    "\n",
    "   A program makes a computer usable by performing complex tasks.\n",
    "   \n",
    "   Comments in Python start with the hash character, **#**, and extend to the end of the physical line.\n",
    "   \n",
    "### Simple Python Commands\n",
    "\n",
    "#### My First Program\n",
    "\n",
    "   For this case we will use **the print() function** to invoke a **string** delimited with quotes and expect a result as shown below:"
   ]
  },
  {
   "cell_type": "code",
   "execution_count": 15,
   "metadata": {},
   "outputs": [
    {
     "name": "stdout",
     "output_type": "stream",
     "text": [
      "Hello World! Welcome to Africa Awakening.\n"
     ]
    }
   ],
   "source": [
    "print(\"Hello World! Welcome to Africa Awakening.\")"
   ]
  },
  {
   "cell_type": "code",
   "execution_count": 16,
   "metadata": {},
   "outputs": [
    {
     "name": "stdout",
     "output_type": "stream",
     "text": [
      "Hello World!\n",
      "Welcome to Africa Awakening.\n"
     ]
    }
   ],
   "source": [
    "# escape character\n",
    "print(\"Hello World!\\nWelcome to Africa Awakening.\")"
   ]
  },
  {
   "cell_type": "markdown",
   "metadata": {},
   "source": [
    "   The **escape character(\\\\)** and _n_ forms a **newline character**, which urges the console to start a new output line."
   ]
  },
  {
   "cell_type": "code",
   "execution_count": null,
   "metadata": {},
   "outputs": [],
   "source": []
  },
  {
   "cell_type": "markdown",
   "metadata": {},
   "source": [
    "##### Mechanisms for Passing of Arguments\n",
    "\n",
    "1. **Positional Arguments**: Passing of the argument is dictated by it position, for example, the second argument will be excuted after the first.\n",
    "\n",
    "2. **Keyword Arguments**: The name originates from the fact that the argument is taken _**from the special word(keyword)**_ and not _**from its location(position)**_.\n",
    "\n",
    "   _keyword argument_:\n",
    "   \n",
    "      - consists of 3 elements: **keyword** identifying the argument (e.g _end_); **equal sign (=)**; and a **value** assigned to that argument\n",
    "      \n",
    "      - _any keyword arguments have to be put after the last positional argument_\n",
    "\n",
    "   _print ()_ function has two keyword arguments:\n",
    "   \n",
    "      - _**end**_ : determines the character the _print ()_ function sends to the output once it reaches the end of its positional arguments.\n",
    "      - _print ()_ function seperates its output arguments with spaces. this can be change using _**sep**_ argument"
   ]
  },
  {
   "cell_type": "code",
   "execution_count": 17,
   "metadata": {},
   "outputs": [
    {
     "name": "stdout",
     "output_type": "stream",
     "text": [
      "Hello World! Welcome to Africa Awakening.\n",
      "Africa is a beautiful continent.\n"
     ]
    }
   ],
   "source": [
    "# positional argument\n",
    "print(\"Hello World!\", \"Welcome to Africa Awakening.\")\n",
    "print(\"Africa is a beautiful continent.\")"
   ]
  },
  {
   "cell_type": "code",
   "execution_count": 18,
   "metadata": {},
   "outputs": [
    {
     "name": "stdout",
     "output_type": "stream",
     "text": [
      "Hello World! Welcome to Africa Awakening.**Africa is a beautiful continent.\n"
     ]
    }
   ],
   "source": [
    "# 'end'keyword argument\n",
    "print (\"Hello World!\", \"Welcome to Africa Awakening.\", end=\"**\")\n",
    "print(\"Africa is a beautiful continent.\")"
   ]
  },
  {
   "cell_type": "code",
   "execution_count": 19,
   "metadata": {},
   "outputs": [
    {
     "name": "stdout",
     "output_type": "stream",
     "text": [
      "Hello World! Welcome to Africa Awakening. Africa is a beautiful continent.\n"
     ]
    }
   ],
   "source": [
    "# another example on 'end' keyword argument\n",
    "print(\"Hello World!\", \"Welcome to Africa Awakening.\", end=\" \")\n",
    "print(\"Africa is a beautiful continent.\")"
   ]
  },
  {
   "cell_type": "code",
   "execution_count": 20,
   "metadata": {},
   "outputs": [
    {
     "name": "stdout",
     "output_type": "stream",
     "text": [
      "Hello*World!*Welcome*to*Africa*Awakening.\n",
      "Africa_is_a_beautiful_continent.\n"
     ]
    }
   ],
   "source": [
    "# 'sep' keyword argument\n",
    "print(\"Hello\", \"World!\", \"Welcome\", \"to\", \"Africa\", \"Awakening.\", sep=\"*\")\n",
    "print(\"Africa\", \"is\", \"a\", \"beautiful\", \"continent.\", sep=\"_\")"
   ]
  },
  {
   "cell_type": "markdown",
   "metadata": {},
   "source": [
    "##### Python Literals\n",
    "\n",
    "1. **integers**, values with no fractional part, for example, 5,100,22;\n",
    "\n",
    "2. **floats**, contain the fractional part, for example, 1.1111, 3.678, 2.1;\n",
    "\n",
    "3. **strings**, are used to process text.\n",
    "\n",
    "4. **boolean values**, represent _truthfulness_(i.e True or False)"
   ]
  },
  {
   "cell_type": "code",
   "execution_count": 21,
   "metadata": {},
   "outputs": [
    {
     "name": "stdout",
     "output_type": "stream",
     "text": [
      "I'm \n",
      "learning \n",
      "\"Monty Python\"\n"
     ]
    }
   ],
   "source": [
    "# literal - string\n",
    "print('I\\'m \\nlearning \\n\"Monty Python\"')"
   ]
  },
  {
   "cell_type": "markdown",
   "metadata": {},
   "source": [
    "##### Operators\n",
    "\n",
    "   This is a symbol of programming able to operate on values. It comprises of: **+ - * / // % \\**** \n",
    "   \n",
    "   ###### Exponential Operator\n",
    "   \n",
    "   Uses ** (double asterisk) sign. Left argument is the **base**, right the **exponent**. For example:"
   ]
  },
  {
   "cell_type": "code",
   "execution_count": 22,
   "metadata": {},
   "outputs": [
    {
     "name": "stdout",
     "output_type": "stream",
     "text": [
      "64\n",
      "64.0\n"
     ]
    }
   ],
   "source": [
    "print(4 ** 3) # output is an integer\n",
    "print(4. ** 3) # output is a float"
   ]
  },
  {
   "cell_type": "markdown",
   "metadata": {},
   "source": [
    "###### Multiplication Operator\n",
    "\n",
    "   Uses * (asterisk) sign. Example:"
   ]
  },
  {
   "cell_type": "code",
   "execution_count": 23,
   "metadata": {},
   "outputs": [
    {
     "name": "stdout",
     "output_type": "stream",
     "text": [
      "12\n",
      "12.0\n"
     ]
    }
   ],
   "source": [
    "print(4 * 3) # output is an integer\n",
    "print(4. * 3) # output is a float"
   ]
  },
  {
   "cell_type": "markdown",
   "metadata": {},
   "source": [
    "###### Division Operator\n",
    "\n",
    "   Uses / (slash) sign. Where value in front of the slash is a **dividend**, value behind the slash, a **divisor**\n",
    "   \n",
    "   _**Note:**_ _The result produced by division operator is always a float._ Example:"
   ]
  },
  {
   "cell_type": "code",
   "execution_count": 24,
   "metadata": {},
   "outputs": [
    {
     "name": "stdout",
     "output_type": "stream",
     "text": [
      "19.0\n",
      "19.0\n",
      "22.8\n",
      "22.8\n"
     ]
    }
   ],
   "source": [
    "print(114 / 6)\n",
    "print(114. / 6)\n",
    "print(114 / 5)\n",
    "print(114. / 5)"
   ]
  },
  {
   "cell_type": "markdown",
   "metadata": {},
   "source": [
    "###### Integer Divisional Operator\n",
    "\n",
    "   Uses // (double slash) sign and lacks the fractional part."
   ]
  },
  {
   "cell_type": "code",
   "execution_count": 25,
   "metadata": {},
   "outputs": [
    {
     "name": "stdout",
     "output_type": "stream",
     "text": [
      "19\n",
      "19.0\n",
      "22\n",
      "22.0\n"
     ]
    }
   ],
   "source": [
    "print(114 // 6)\n",
    "print(114. // 6)\n",
    "print(114 // 5)\n",
    "print(114. // 5)"
   ]
  },
  {
   "cell_type": "markdown",
   "metadata": {},
   "source": [
    "###### Remainder Operator\n",
    "\n",
    "   Uses % (percent) sign, the result of this operator is a remainder left after integer division."
   ]
  },
  {
   "cell_type": "code",
   "execution_count": 26,
   "metadata": {},
   "outputs": [
    {
     "name": "stdout",
     "output_type": "stream",
     "text": [
      "0\n",
      "0.0\n",
      "4\n",
      "4.0\n"
     ]
    }
   ],
   "source": [
    "print(114 % 6)\n",
    "print(114. % 6)\n",
    "print(114 % 5)\n",
    "print(114. % 5)"
   ]
  },
  {
   "cell_type": "markdown",
   "metadata": {},
   "source": [
    "###### Addition Operator\n",
    "\n",
    "   Uses + (plus) sign to add values."
   ]
  },
  {
   "cell_type": "code",
   "execution_count": 27,
   "metadata": {},
   "outputs": [
    {
     "name": "stdout",
     "output_type": "stream",
     "text": [
      "-9\n",
      "-9.0\n"
     ]
    }
   ],
   "source": [
    "print(-15 + 6)\n",
    "print(-15. + 6)"
   ]
  },
  {
   "cell_type": "markdown",
   "metadata": {},
   "source": [
    "###### Subtraction Operator\n",
    "\n",
    "   Uses - (minus) sign."
   ]
  },
  {
   "cell_type": "code",
   "execution_count": 28,
   "metadata": {},
   "outputs": [
    {
     "name": "stdout",
     "output_type": "stream",
     "text": [
      "-21\n",
      "-21.0\n"
     ]
    }
   ],
   "source": [
    "print(-15 - 6)\n",
    "print(-15. - 6)"
   ]
  },
  {
   "cell_type": "code",
   "execution_count": 29,
   "metadata": {},
   "outputs": [
    {
     "name": "stdout",
     "output_type": "stream",
     "text": [
      "66.0\n"
     ]
    }
   ],
   "source": [
    "# operators combined\n",
    "print(8 * ((17 - 31) + 26) / (45 % 14) // 14 + (4 ** 3)) "
   ]
  },
  {
   "cell_type": "markdown",
   "metadata": {},
   "source": [
    "##### Variables\n",
    "\n",
    "   Variables are used to store values so they can be used in other operations.\n",
    "   \n",
    "   Python variable have:\n",
    "   \n",
    "   - **name**\n",
    "      \n",
    "   - **value**(content of the container)"
   ]
  },
  {
   "cell_type": "code",
   "execution_count": 30,
   "metadata": {},
   "outputs": [
    {
     "name": "stdout",
     "output_type": "stream",
     "text": [
      "c =  8.602325267042627\n"
     ]
    }
   ],
   "source": [
    "# this program evaluates the hypotenuse (c)\n",
    "# a and b are the lengths of the legs\n",
    "a = 5.0\n",
    "b = 7.0\n",
    "c = (a ** 2 + b ** 2) ** 0.5 # we use ** instead of square root\n",
    "print('c = ',c)"
   ]
  },
  {
   "cell_type": "code",
   "execution_count": 31,
   "metadata": {},
   "outputs": [
    {
     "name": "stdout",
     "output_type": "stream",
     "text": [
      "12\n"
     ]
    }
   ],
   "source": [
    "x = 3\n",
    "# shortening operators like:\n",
    "x = x * 4\n",
    "\n",
    "print(x)"
   ]
  },
  {
   "cell_type": "code",
   "execution_count": 32,
   "metadata": {},
   "outputs": [
    {
     "name": "stdout",
     "output_type": "stream",
     "text": [
      "12\n"
     ]
    }
   ],
   "source": [
    "x = 3\n",
    "# this is shortened by\n",
    "x *= 4\n",
    "\n",
    "print(x)"
   ]
  },
  {
   "cell_type": "markdown",
   "metadata": {},
   "source": [
    "   **input()** function, reads data entered by the user and returns the same data to the running program.\n",
    "   \n",
    "   ###### String Operators\n",
    "   \n",
    "   **Concanation operator**, uses the _+(plus) sign_ to join to or more strings together.\n",
    "   \n",
    "   **Replication operator**, uses the _*(asterisk) sign_ to replicate the string the same number of times specified by the number."
   ]
  },
  {
   "cell_type": "code",
   "execution_count": 33,
   "metadata": {},
   "outputs": [
    {
     "name": "stdout",
     "output_type": "stream",
     "text": [
      "What is your first name: Hakuna\n",
      "What is your surname: Matata\n",
      "Welcome  Hakuna Matata to Africa Awakening.Hope you're having fun.\n"
     ]
    }
   ],
   "source": [
    "# use of input() function and concanation\n",
    "f_name = str(input(\"What is your first name: \"))\n",
    "surname = str(input(\"What is your surname: \"))\n",
    "print(\"Welcome \" + \" \" + f_name + \" \" + surname + \" to Africa Awakening\", end=\".\")\n",
    "print(\"Hope you\\'re having fun.\")"
   ]
  },
  {
   "cell_type": "code",
   "execution_count": 34,
   "metadata": {},
   "outputs": [
    {
     "name": "stdout",
     "output_type": "stream",
     "text": [
      "Jambo Jambo Jambo . Karibu Africa! Karibu Africa! Karibu Africa! Karibu Africa! Karibu Africa!\n"
     ]
    }
   ],
   "source": [
    "# an example of replication\n",
    "print((\"Jambo \" * 3) + \".\" + (\" Karibu Africa!\" * 5), sep=\" \")"
   ]
  },
  {
   "cell_type": "markdown",
   "metadata": {},
   "source": [
    "##### Comparision Operators and if Condition\n",
    "\n",
    "- _**equal to (==)**_\n",
    "\n",
    "- _**not equal to (!=)**_\n",
    "\n",
    "- _**less than (<)**_\n",
    "\n",
    "- _**greater than (>)**_\n",
    "\n",
    "- _**less than or equal to (<=)**_\n",
    "\n",
    "- _**greater than or equal to (>=)**_\n"
   ]
  },
  {
   "cell_type": "code",
   "execution_count": 35,
   "metadata": {},
   "outputs": [
    {
     "name": "stdout",
     "output_type": "stream",
     "text": [
      "Please enter a number: 6\n",
      "False\n"
     ]
    }
   ],
   "source": [
    "# program that uses comparison operators\n",
    "# using  the input() function it prompts user to enter an integer value\n",
    "number = int(input(\"Please enter a number: \"))\n",
    "\n",
    "'''\n",
    " using the if condition:\n",
    " if the value is less than 10 prints 'False' \n",
    " if it is greater than or equal to 10 prints 'True'\n",
    "'''\n",
    "if number >= 10:\n",
    "    print(\"True\")\n",
    "else:\n",
    "    print(\"False\")"
   ]
  },
  {
   "cell_type": "code",
   "execution_count": 36,
   "metadata": {},
   "outputs": [
    {
     "name": "stdout",
     "output_type": "stream",
     "text": [
      "Enter your favorite indoor plant: Spathiphyllum\n",
      "Spathiphyllum is the best plant ever!\n"
     ]
    }
   ],
   "source": [
    "# program that prompts the user to enter string as input\n",
    "user = str(input(\"Enter your favorite indoor plant: \"))\n",
    "\n",
    "'''\n",
    "if the input is 'Spathiphyllum' prints 'Spathiphyllum is the best plant ever!'\n",
    "if user inputs something different it print\n",
    "'No, I want a real Spathiphyllum...!'\n",
    "'''\n",
    "plant = \"Spathiphyllum\"\n",
    "\n",
    "if user == plant:\n",
    "    print(\"Spathiphyllum is the best plant ever!\")\n",
    "else:\n",
    "    print(\"No, I want a real Spathiphyllum...!\")"
   ]
  },
  {
   "cell_type": "code",
   "execution_count": 37,
   "metadata": {},
   "outputs": [
    {
     "name": "stdout",
     "output_type": "stream",
     "text": [
      "Please enter an integer value: 9\n",
      "More\n"
     ]
    }
   ],
   "source": [
    "# program that shows application of 'elif'\n",
    "#prompting user to enter an integer\n",
    "x = int(input(\"Please enter an integer value: \"))\n",
    "\n",
    "# using if statements\n",
    "if x < 0:\n",
    "    x = 0\n",
    "    print(\"Negative changed to Zero\")\n",
    "elif x == 0:\n",
    "    print(\"Zero\")\n",
    "elif x == 1:\n",
    "    print(\"Single\")\n",
    "else:\n",
    "    print(\"More\")"
   ]
  },
  {
   "cell_type": "markdown",
   "metadata": {},
   "source": [
    "##### while Statements"
   ]
  },
  {
   "cell_type": "code",
   "execution_count": 38,
   "metadata": {},
   "outputs": [
    {
     "name": "stdout",
     "output_type": "stream",
     "text": [
      "Enter value or -1 to stop: -1\n",
      "The largest number is  -999999999\n"
     ]
    }
   ],
   "source": [
    "# we will store current greatest number here\n",
    "max = -999999999\n",
    "\n",
    "# get the first value\n",
    "number = int(input(\"Enter value or -1 to stop: \"))\n",
    "\n",
    "#if the number is not equal to -1 we will continue\n",
    "while number != -1:\n",
    "    \n",
    "    # is the number greater than max?\n",
    "    if number > max:\n",
    "        \n",
    "        # if yes update max\n",
    "        max = number\n",
    "        \n",
    "    # get next number\n",
    "    number = int(input(\"Enter value or -1 to stop: \"))\n",
    "    \n",
    "# print the largest number\n",
    "print(\"The largest number is \",max)"
   ]
  },
  {
   "cell_type": "code",
   "execution_count": 39,
   "metadata": {},
   "outputs": [
    {
     "name": "stdout",
     "output_type": "stream",
     "text": [
      "Enter a value or 0 to stop: 0\n",
      "Even numbers:  0\n",
      "Odd numbers:  0\n"
     ]
    }
   ],
   "source": [
    "# program reads a sequence of numbers and counts how many numbers\n",
    "# are even and how many are odd\n",
    "# program terminates when zero is entered\n",
    "\n",
    "# initialize\n",
    "Evens = 0\n",
    "Odds = 0\n",
    "# read first number\n",
    "Number = int(input(\"Enter a value or 0 to stop: \"))\n",
    "# 0 terminates execution\n",
    "while Number != 0:\n",
    "    # check if the number is odd\n",
    "    if Number % 2 == 1:\n",
    "        # increase \"odd\" counter\n",
    "        Odds += 1\n",
    "    else:\n",
    "        # increase \"even\" counter\n",
    "        Evens += 1\n",
    "    # read next number\n",
    "    Number = int(input(\"Enter a value or 0 to stop: \"))\n",
    "    \n",
    "# print results\n",
    "print(\"Even numbers: \",Evens)\n",
    "print(\"Odd numbers: \",Odds)"
   ]
  },
  {
   "cell_type": "markdown",
   "metadata": {},
   "source": [
    "##### for Statements\n",
    "\n",
    "   Python's _**for statement**_ iterates over the items of any sequence (a list or a string), in the order that they appear in the sequence.\n",
    "   \n",
    "   _**Note:**_ for Loop has no condition after it since they're internally checked.\n",
    "   \n",
    "   any variable after the for keyword is the **control variable** of the loop, it counts the loop's turns, and does it automatically.\n",
    "   \n",
    "   ##### range ( ) Function\n",
    "   \n",
    "   The range() function iterates over a sequence of numbers and generates arithmetic progressions."
   ]
  },
  {
   "cell_type": "code",
   "execution_count": 40,
   "metadata": {},
   "outputs": [
    {
     "name": "stdout",
     "output_type": "stream",
     "text": [
      "0\n",
      "1\n",
      "2\n",
      "3\n",
      "4\n"
     ]
    }
   ],
   "source": [
    "for i in range(5):\n",
    "    print(i)"
   ]
  },
  {
   "cell_type": "code",
   "execution_count": 41,
   "metadata": {},
   "outputs": [
    {
     "name": "stdout",
     "output_type": "stream",
     "text": [
      "1\n",
      "2\n",
      "3\n",
      "4\n"
     ]
    }
   ],
   "source": [
    "# range() function with two arguments\n",
    "# 1st argument determines the initial value of the control variable\n",
    "# Last argument is not included\n",
    "\n",
    "for i in range(1,5):\n",
    "    print(i)"
   ]
  },
  {
   "cell_type": "code",
   "execution_count": 42,
   "metadata": {},
   "outputs": [
    {
     "name": "stdout",
     "output_type": "stream",
     "text": [
      "0\n",
      "2\n",
      "4\n"
     ]
    }
   ],
   "source": [
    "# range() function with 3 arguments\n",
    "# 3rd argument is an increment\n",
    "\n",
    "for i in range(0,5,2):\n",
    "    print(i)"
   ]
  },
  {
   "cell_type": "markdown",
   "metadata": {},
   "source": [
    "##### _break_ and _continue_ Statements, and _else_ Clause in loops\n",
    "\n",
    "- _break_ - exits the loop immediately. The program begins to execute the nearest instruction after the loop's body.\n",
    "\n",
    "- _continue_ - it continues with the next iteration of the loop.\n",
    "\n",
    "- _else_ - it is used when the loop terminates after a list comes to an end (in **for loop**) or when the  condition becomes false (in while loop).\n",
    "\n",
    "##### pass Statement\n",
    "\n",
    "    The pass statement does nothing. Used when a statement is required syntactically but the program requires no action."
   ]
  },
  {
   "cell_type": "code",
   "execution_count": 43,
   "metadata": {},
   "outputs": [
    {
     "name": "stdout",
     "output_type": "stream",
     "text": [
      "2 is a prime number\n",
      "3 is a prime number\n",
      "4 equals 2 * 2\n",
      "5 is a prime number\n",
      "6 equals 2 * 3\n",
      "7 is a prime number\n",
      "8 equals 2 * 4\n",
      "9 equals 3 * 3\n"
     ]
    }
   ],
   "source": [
    "# example of break statement and else clause\n",
    "\n",
    "for n in range(2,10):\n",
    "    for x in range(2, n):\n",
    "        if n % x == 0:\n",
    "            print(n, \"equals\", x, \"*\", n//x)\n",
    "            break\n",
    "    else:\n",
    "        # loop fell through without finding a factor\n",
    "        print(n, \"is a prime number\")"
   ]
  },
  {
   "cell_type": "code",
   "execution_count": 44,
   "metadata": {},
   "outputs": [
    {
     "name": "stdout",
     "output_type": "stream",
     "text": [
      "Found an even number 2\n",
      "Found a number 3\n",
      "Found an even number 4\n",
      "Found a number 5\n",
      "Found an even number 6\n",
      "Found a number 7\n",
      "Found an even number 8\n",
      "Found a number 9\n"
     ]
    }
   ],
   "source": [
    "# continue statement\n",
    "\n",
    "for num in range(2, 10):\n",
    "    if num % 2 == 0:\n",
    "        print(\"Found an even number\", num)\n",
    "        continue\n",
    "    print(\"Found a number\", num)"
   ]
  },
  {
   "cell_type": "raw",
   "metadata": {},
   "source": [
    "for i in the range(4):\n",
    "    #do something\n",
    "    pass\n",
    "\n",
    "while True:\n",
    "    pass"
   ]
  },
  {
   "cell_type": "markdown",
   "metadata": {},
   "source": [
    "##### Lists\n",
    "\n",
    "   Lists are comma-seperated values(items) inside square brackets.\n",
    "   \n",
    "   _**Note:**_ Lists can consist of different types of items, but usually the items all have the same type.\n",
    "   \n",
    "      \n",
    "    "
   ]
  },
  {
   "cell_type": "code",
   "execution_count": 45,
   "metadata": {},
   "outputs": [
    {
     "name": "stdout",
     "output_type": "stream",
     "text": [
      "[1, 4, 9, 16, 25, 36]\n"
     ]
    }
   ],
   "source": [
    "# list in action\n",
    "digits = [1, 4, 9, 16, 25, 36]\n",
    "\n",
    "print(digits)"
   ]
  },
  {
   "cell_type": "code",
   "execution_count": 46,
   "metadata": {},
   "outputs": [
    {
     "data": {
      "text/plain": [
       "1"
      ]
     },
     "execution_count": 46,
     "metadata": {},
     "output_type": "execute_result"
    }
   ],
   "source": [
    "digits[0] # indexing returns the item\n"
   ]
  },
  {
   "cell_type": "code",
   "execution_count": 47,
   "metadata": {},
   "outputs": [
    {
     "data": {
      "text/plain": [
       "36"
      ]
     },
     "execution_count": 47,
     "metadata": {},
     "output_type": "execute_result"
    }
   ],
   "source": [
    "digits[-1]"
   ]
  },
  {
   "cell_type": "code",
   "execution_count": 48,
   "metadata": {},
   "outputs": [
    {
     "data": {
      "text/plain": [
       "[9, 16, 25, 36]"
      ]
     },
     "execution_count": 48,
     "metadata": {},
     "output_type": "execute_result"
    }
   ],
   "source": [
    "digits[-4:] # slicing returns a new list"
   ]
  },
  {
   "cell_type": "code",
   "execution_count": 49,
   "metadata": {},
   "outputs": [
    {
     "data": {
      "text/plain": [
       "[1, 4, 9, 16, 25, 36]"
      ]
     },
     "execution_count": 49,
     "metadata": {},
     "output_type": "execute_result"
    }
   ],
   "source": [
    "digits[:] # slice returns a copy of the list"
   ]
  },
  {
   "cell_type": "code",
   "execution_count": 50,
   "metadata": {},
   "outputs": [
    {
     "data": {
      "text/plain": [
       "[1, 4, 9, 16, 25, 36, 49, 64, 81]"
      ]
     },
     "execution_count": 50,
     "metadata": {},
     "output_type": "execute_result"
    }
   ],
   "source": [
    "digits + [49, 64, 81] # implementing concatenation"
   ]
  },
  {
   "cell_type": "code",
   "execution_count": 51,
   "metadata": {},
   "outputs": [
    {
     "name": "stdout",
     "output_type": "stream",
     "text": [
      "[1, 8, 27, 64, 125]\n"
     ]
    }
   ],
   "source": [
    "'''\n",
    "Lists are mutable as opposed to strings. \n",
    "This means their content can be altered\n",
    "'''\n",
    "cubes = [1, 8, 27, 63, 125] # notice index 3 is wrong\n",
    "\n",
    "# the cube of 4 is 64, and not 63!\n",
    "\n",
    "cubes[3] = 64 #replacing the wrong value\n",
    "print(cubes)"
   ]
  },
  {
   "cell_type": "code",
   "execution_count": 52,
   "metadata": {},
   "outputs": [
    {
     "name": "stdout",
     "output_type": "stream",
     "text": [
      "[1, 8, 27, 64, 125, 216, 343, 729]\n"
     ]
    }
   ],
   "source": [
    "'''\n",
    "using append() method, \n",
    "we can add new items at the end of the list \n",
    "'''\n",
    "cubes.append(216) # add cube of 6\n",
    "cubes.append(7 ** 3) # also add cube of 7\n",
    "cubes.append(9 ** 3) # add cube of 9\n",
    "\n",
    "print(cubes)"
   ]
  },
  {
   "cell_type": "code",
   "execution_count": 53,
   "metadata": {},
   "outputs": [
    {
     "name": "stdout",
     "output_type": "stream",
     "text": [
      "[1, 8, 27, 64, 125, 216, 512, 343, 729]\n"
     ]
    }
   ],
   "source": [
    "'''\n",
    "insert() mathod on the other hand,\n",
    "adds a new element at any place in the list and not only at the end.\n",
    "\n",
    "insert() takes two arguments:\n",
    "    - 1st shows the required location of the element to be inserted\n",
    "note: all the existing elements that occupy locations to the right of the new element \n",
    "(including the one at the indicated position) are shifted to the right, \n",
    "in order to make space for the new element\n",
    "\n",
    "    - the 2nd is the element to be inserted.\n",
    "format: list.insert(where, what)\n",
    "'''\n",
    "\n",
    "cubes.insert(7, 512) # notice we skipped cube of 8, we can add it using insert()\n",
    "print(cubes)"
   ]
  },
  {
   "cell_type": "markdown",
   "metadata": {},
   "source": [
    "    Slices can be assigned new values. This can change the size of the list or even clear it as shown below:"
   ]
  },
  {
   "cell_type": "code",
   "execution_count": 54,
   "metadata": {},
   "outputs": [
    {
     "name": "stdout",
     "output_type": "stream",
     "text": [
      "['a', 'b', 'c', 'd', 'e', 'f', 'g']\n"
     ]
    }
   ],
   "source": [
    "letters = ['a', 'b', 'c', 'd', 'e', 'f', 'g']\n",
    "print(letters)"
   ]
  },
  {
   "cell_type": "code",
   "execution_count": 55,
   "metadata": {},
   "outputs": [
    {
     "name": "stdout",
     "output_type": "stream",
     "text": [
      "['a', 'b', 'C', 'D', 'E', 'f', 'g']\n"
     ]
    }
   ],
   "source": [
    "# replace some values\n",
    "letters[2:5] = ['C', 'D', 'E']\n",
    "print(letters)"
   ]
  },
  {
   "cell_type": "code",
   "execution_count": 56,
   "metadata": {},
   "outputs": [
    {
     "name": "stdout",
     "output_type": "stream",
     "text": [
      "['a', 'b', 'f', 'g']\n"
     ]
    }
   ],
   "source": [
    "# removing the added letters\n",
    "letters[2:5] = []\n",
    "print(letters)"
   ]
  },
  {
   "cell_type": "code",
   "execution_count": 57,
   "metadata": {},
   "outputs": [
    {
     "name": "stdout",
     "output_type": "stream",
     "text": [
      "['b', 'f', 'g']\n"
     ]
    }
   ],
   "source": [
    "# removing a specific element in a list using del(delete)\n",
    "del letters[0]\n",
    "print(letters)"
   ]
  },
  {
   "cell_type": "code",
   "execution_count": 58,
   "metadata": {},
   "outputs": [
    {
     "name": "stdout",
     "output_type": "stream",
     "text": [
      "[]\n"
     ]
    }
   ],
   "source": [
    "# clear the list by replacing all the elements with an empty list\n",
    "letters[:] = []\n",
    "print(letters)"
   ]
  },
  {
   "cell_type": "markdown",
   "metadata": {},
   "source": [
    "   Built-in function **len()** takes the list's name as an argument and returns the nuumber of elements currently stored in the list."
   ]
  },
  {
   "cell_type": "code",
   "execution_count": 59,
   "metadata": {},
   "outputs": [
    {
     "name": "stdout",
     "output_type": "stream",
     "text": [
      "9\n"
     ]
    }
   ],
   "source": [
    "numbers = [1, 2, 3, 4, 5, 6, 7, 8, 9]\n",
    "print(len(numbers))"
   ]
  },
  {
   "cell_type": "code",
   "execution_count": 60,
   "metadata": {},
   "outputs": [
    {
     "name": "stdout",
     "output_type": "stream",
     "text": [
      "[1, 3, 5, 7, 9]\n"
     ]
    }
   ],
   "source": [
    "# adding elements to list\n",
    "list = []\n",
    "for i in range(0,10,2):\n",
    "    list.append(i + 1)\n",
    "print(list)"
   ]
  },
  {
   "cell_type": "code",
   "execution_count": 62,
   "metadata": {},
   "outputs": [
    {
     "name": "stdout",
     "output_type": "stream",
     "text": [
      "42\n"
     ]
    }
   ],
   "source": [
    "# more application of list\n",
    "list = [2, 4, 6, 8, 10, 12]\n",
    "sum = 0\n",
    "for i in range(len(list)):\n",
    "    sum += list[i] #calculating sum of the list\n",
    "print(sum)"
   ]
  },
  {
   "cell_type": "code",
   "execution_count": 63,
   "metadata": {},
   "outputs": [
    {
     "name": "stdout",
     "output_type": "stream",
     "text": [
      "[42, 44, 46, 48, 50]\n"
     ]
    }
   ],
   "source": [
    "# using sort() to arrange list in ascending order\n",
    "list = [48, 50, 46, 42, 44]\n",
    "# sorting the list\n",
    "list.sort()\n",
    "print(list)"
   ]
  },
  {
   "cell_type": "markdown",
   "metadata": {},
   "source": [
    "##### The in Operator\n",
    "\n",
    "   Using **in** operator we are able check if a specific value is stored in a list or not.\n",
    "   The format is:\n",
    "  -  _elem **in** list_\n",
    "  \n",
    "  \n",
    "  -  _elem **not in** list_"
   ]
  },
  {
   "cell_type": "markdown",
   "metadata": {},
   "source": [
    "##### List Comprehension\n",
    "\n",
    "    This is written to shorten the amount of time used to write a list. The below examples will shade some light:"
   ]
  },
  {
   "cell_type": "code",
   "execution_count": 64,
   "metadata": {},
   "outputs": [
    {
     "name": "stdout",
     "output_type": "stream",
     "text": [
      "[0, 1, 4, 9, 16, 25, 36, 49, 64, 81]\n"
     ]
    }
   ],
   "source": [
    "squares = [x ** 2 for x in range(10)]\n",
    "print(squares)"
   ]
  },
  {
   "cell_type": "code",
   "execution_count": 66,
   "metadata": {},
   "outputs": [
    {
     "name": "stdout",
     "output_type": "stream",
     "text": [
      "Average temperature at noon:  0.0\n"
     ]
    }
   ],
   "source": [
    "temps = [[0.0 for h in range(24)] for d in range(31)]\n",
    "\n",
    "sum = 0.0\n",
    "for day in temps:\n",
    "    sum += day[11]\n",
    "average = sum /31\n",
    "print(\"Average temperature at noon: \", average)"
   ]
  },
  {
   "cell_type": "code",
   "execution_count": null,
   "metadata": {},
   "outputs": [],
   "source": []
  }
 ],
 "metadata": {
  "kernelspec": {
   "display_name": "Python 3",
   "language": "python",
   "name": "python3"
  },
  "language_info": {
   "codemirror_mode": {
    "name": "ipython",
    "version": 3
   },
   "file_extension": ".py",
   "mimetype": "text/x-python",
   "name": "python",
   "nbconvert_exporter": "python",
   "pygments_lexer": "ipython3",
   "version": "3.7.5"
  },
  "toc": {
   "base_numbering": 1,
   "nav_menu": {},
   "number_sections": true,
   "sideBar": true,
   "skip_h1_title": false,
   "title_cell": "Table of Contents",
   "title_sidebar": "Contents",
   "toc_cell": false,
   "toc_position": {},
   "toc_section_display": true,
   "toc_window_display": false
  }
 },
 "nbformat": 4,
 "nbformat_minor": 2
}
